{
 "cells": [
  {
   "cell_type": "markdown",
   "metadata": {},
   "source": [
    "PROJETO "
   ]
  },
  {
   "cell_type": "code",
   "execution_count": null,
   "metadata": {},
   "outputs": [],
   "source": [
    "import pandas as pd\n",
    "import numpy as np\n",
    "import matplotlib.pyplot as plt"
   ]
  },
  {
   "cell_type": "markdown",
   "metadata": {},
   "source": [
    "- IMPORTANDO ARQUIVO"
   ]
  },
  {
   "cell_type": "code",
   "execution_count": null,
   "metadata": {},
   "outputs": [],
   "source": [
    "df = pd.read_csv('/Users/usuario/Desktop/Projeto_2_Analise_Escolas/dados_exer2.csv')"
   ]
  },
  {
   "cell_type": "markdown",
   "metadata": {},
   "source": [
    "- VERIFICANDO CABECALHO"
   ]
  },
  {
   "cell_type": "code",
   "execution_count": null,
   "metadata": {},
   "outputs": [],
   "source": [
    "df.head()"
   ]
  },
  {
   "cell_type": "markdown",
   "metadata": {},
   "source": [
    "- VERIFICANDO A DESCRICAO GERAL"
   ]
  },
  {
   "cell_type": "code",
   "execution_count": null,
   "metadata": {},
   "outputs": [],
   "source": [
    "df.describe()"
   ]
  },
  {
   "cell_type": "markdown",
   "metadata": {},
   "source": [
    "- QUANTIDADE DE PESSOAS DAS SEGUINTES FAIXAS ETARIAS\n",
    "0 A 20\n",
    "21 A 35\n",
    "36 A 50\n",
    "51 A 65\n",
    "66 MAIS\n"
   ]
  },
  {
   "cell_type": "code",
   "execution_count": null,
   "metadata": {},
   "outputs": [],
   "source": [
    "\n",
    "df['grupo_idade'] = pd.cut(x=df['Idade'], bins=[0,20,35,50,65,200], labels=['A','B','C','D','E'])\n",
    "pessoas = df.groupby('grupo_idade').count()\n",
    "pessoas_grupo = pessoas['Idade']\n",
    "pessoas_grupo\n"
   ]
  },
  {
   "cell_type": "markdown",
   "metadata": {},
   "source": [
    "- MEDIA ESCOLARIDADE POR CADA FAIXA ETARIA"
   ]
  },
  {
   "cell_type": "code",
   "execution_count": null,
   "metadata": {},
   "outputs": [],
   "source": [
    "media_escolaridade_idade = df.groupby('grupo_idade')['Anos de Estudo'].mean()\n",
    "print(media_escolaridade_idade)\n"
   ]
  },
  {
   "cell_type": "markdown",
   "metadata": {},
   "source": [
    "- A UF QUE CONCENTRA A MAIOR RENDA."
   ]
  },
  {
   "cell_type": "code",
   "execution_count": null,
   "metadata": {},
   "outputs": [],
   "source": [
    "uf_maior = df[['UF','Renda']].max()\n",
    "print('A UF com maior renda é distrito federal a com a renda maxima de', uf_maior[1] )\n"
   ]
  },
  {
   "cell_type": "markdown",
   "metadata": {},
   "source": [
    "- MEDIA DE RENDA DE PESSOAS DO SEXO MASCULINO E FEMININO"
   ]
  },
  {
   "cell_type": "code",
   "execution_count": null,
   "metadata": {},
   "outputs": [],
   "source": [
    "sexo_0 = df.query( 'Sexo == 0').mean()\n",
    "sexo_1 = df.query( 'Sexo == 1').mean()\n",
    "\n",
    "\n",
    "print('A Média de renda de pessoas do sexo Masculino é', sexo_0[5])\n",
    "print('A Média de renda de pessoas do sexo Feminino é', sexo_1[5])\n"
   ]
  },
  {
   "cell_type": "code",
   "execution_count": null,
   "metadata": {},
   "outputs": [],
   "source": []
  }
 ],
 "metadata": {
  "interpreter": {
   "hash": "547bd9006f588c7cfbca0bf0c0d15ae66dcc908628e6da5e1501a77401c4bf78"
  },
  "kernelspec": {
   "display_name": "Python 3.10.9 ('base')",
   "language": "python",
   "name": "python3"
  },
  "language_info": {
   "codemirror_mode": {
    "name": "ipython",
    "version": 3
   },
   "file_extension": ".py",
   "mimetype": "text/x-python",
   "name": "python",
   "nbconvert_exporter": "python",
   "pygments_lexer": "ipython3",
   "version": "3.10.9"
  },
  "orig_nbformat": 4
 },
 "nbformat": 4,
 "nbformat_minor": 2
}
